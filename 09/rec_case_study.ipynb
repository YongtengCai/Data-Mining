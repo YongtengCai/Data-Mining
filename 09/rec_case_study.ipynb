{
 "cells": [
  {
   "cell_type": "markdown",
   "metadata": {},
   "source": [
    "# 商务案例: 电影推荐\n",
    "# 1. 数据集与SurPRISE库\n",
    "## 1.1. MovieLens 100K\n",
    "**MovieLens**数据集是从网站MovieLens (http://movielens.org) 所收集的真实用户评分数据。其中的[`ml-100k`](http://files.grouplens.org/datasets/movielens/ml-100k-README.txt)是从1997-9-19至1998-4-22期间约7个月的数据，本次案例将选取其中`u.data`文件，该文件包含由943个用户对于1682部影片的共100,000条评分记录，并保证每个用户至少有20条评分记录，其中的评分对应1、2、3、4、5五个等级。数据字段如下：\n",
    "\n",
    "| user id | item id | rating | timestamp |\n",
    "|---------|---------|--------|-----------|\n",
    "\n",
    "## 1.2. SurPRISE\n",
    "[SurPRISE](http://surpriselib.com/)（Simple Python RecommendatIon System Engine）是Python的一个能够建立推荐系统并实施分析、处理**显式**评分数据的第三方库。Surprise既提供了许多内置的数据集（[Movielens](https://grouplens.org/datasets/movielens/)、[Jester](http://eigentaste.berkeley.edu/dataset/)），也能让用户构建自己的数据集，并搭建了众多常见的推荐算法与分析工具。"
   ]
  },
  {
   "cell_type": "code",
   "execution_count": 1,
   "metadata": {},
   "outputs": [],
   "source": [
    "# 用pip安装surprise库\n",
    "# pip install scikit-surprise"
   ]
  },
  {
   "cell_type": "code",
   "execution_count": 25,
   "metadata": {},
   "outputs": [],
   "source": [
    "import os\n",
    "import pandas as pd\n",
    "\n",
    "from surprise import accuracy\n",
    "from surprise import Dataset\n",
    "from surprise import KNNBasic, KNNWithMeans\n",
    "from surprise import SVD\n",
    "from surprise.model_selection import KFold, LeaveOneOut, train_test_split\n",
    "from surprise.model_selection import GridSearchCV"
   ]
  },
  {
   "cell_type": "markdown",
   "metadata": {},
   "source": [
    "# 2. 数据探索分析\n",
    "## 2.1. 数据载入\n",
    "在Surprise中，已自带`ml-100k`数据集，可直接函数[`Dataset.load_builtin`](https://surprise.readthedocs.io/en/stable/dataset.html#surprise.dataset.Dataset.load_builtin)导入（第一次导入需要下载数据集）。"
   ]
  },
  {
   "cell_type": "code",
   "execution_count": 26,
   "metadata": {},
   "outputs": [],
   "source": [
    "data = Dataset.load_builtin('ml-100k')"
   ]
  },
  {
   "cell_type": "markdown",
   "metadata": {},
   "source": [
    "此外，若要导入非自带的数据集，Surprise也提供了导入的方法。例如对于pandas的DataFrame，也有对应的方法[`load_from_df()`](https://surprise.readthedocs.io/en/stable/dataset.html#surprise.dataset.Dataset.load_from_df)，具体可参考[官方文档](https://surprise.readthedocs.io/en/stable/getting_started.html#use-a-custom-dataset)。\n",
    "## 2.2. 数据分析\n",
    "将`data`直接转化为表格形式较为麻烦，这里直接用`pandas`库读取数据集中的`u.data`文件。"
   ]
  },
  {
   "cell_type": "code",
   "execution_count": 16,
   "metadata": {},
   "outputs": [
    {
     "data": {
      "text/html": [
       "<div>\n",
       "<style scoped>\n",
       "    .dataframe tbody tr th:only-of-type {\n",
       "        vertical-align: middle;\n",
       "    }\n",
       "\n",
       "    .dataframe tbody tr th {\n",
       "        vertical-align: top;\n",
       "    }\n",
       "\n",
       "    .dataframe thead th {\n",
       "        text-align: right;\n",
       "    }\n",
       "</style>\n",
       "<table border=\"1\" class=\"dataframe\">\n",
       "  <thead>\n",
       "    <tr style=\"text-align: right;\">\n",
       "      <th></th>\n",
       "      <th>user</th>\n",
       "      <th>item</th>\n",
       "      <th>rating</th>\n",
       "      <th>timestamp</th>\n",
       "    </tr>\n",
       "  </thead>\n",
       "  <tbody>\n",
       "    <tr>\n",
       "      <th>43660</th>\n",
       "      <td>508</td>\n",
       "      <td>185</td>\n",
       "      <td>5</td>\n",
       "      <td>883777430</td>\n",
       "    </tr>\n",
       "    <tr>\n",
       "      <th>87278</th>\n",
       "      <td>518</td>\n",
       "      <td>742</td>\n",
       "      <td>5</td>\n",
       "      <td>876823804</td>\n",
       "    </tr>\n",
       "    <tr>\n",
       "      <th>14317</th>\n",
       "      <td>178</td>\n",
       "      <td>28</td>\n",
       "      <td>5</td>\n",
       "      <td>882826806</td>\n",
       "    </tr>\n",
       "    <tr>\n",
       "      <th>81932</th>\n",
       "      <td>899</td>\n",
       "      <td>291</td>\n",
       "      <td>4</td>\n",
       "      <td>884122279</td>\n",
       "    </tr>\n",
       "    <tr>\n",
       "      <th>95321</th>\n",
       "      <td>115</td>\n",
       "      <td>117</td>\n",
       "      <td>4</td>\n",
       "      <td>881171009</td>\n",
       "    </tr>\n",
       "    <tr>\n",
       "      <th>5405</th>\n",
       "      <td>91</td>\n",
       "      <td>682</td>\n",
       "      <td>2</td>\n",
       "      <td>891438184</td>\n",
       "    </tr>\n",
       "  </tbody>\n",
       "</table>\n",
       "</div>"
      ],
      "text/plain": [
       "       user  item  rating  timestamp\n",
       "43660   508   185       5  883777430\n",
       "87278   518   742       5  876823804\n",
       "14317   178    28       5  882826806\n",
       "81932   899   291       4  884122279\n",
       "95321   115   117       4  881171009\n",
       "5405     91   682       2  891438184"
      ]
     },
     "execution_count": 16,
     "metadata": {},
     "output_type": "execute_result"
    }
   ],
   "source": [
    "file_path = os.path.expanduser('~/.surprise_data/ml-100k/ml-100k/u.data')\n",
    "df = pd.read_csv(file_path, sep='\\t', names=['user', 'item', 'rating', 'timestamp'])\n",
    "df.sample(6, random_state=1)"
   ]
  },
  {
   "cell_type": "code",
   "execution_count": 27,
   "metadata": {},
   "outputs": [
    {
     "name": "stdout",
     "output_type": "stream",
     "text": [
      "------数据集规模------\n",
      "用户数： 943\n",
      "电影数： 1682\n",
      "评分数： 100000\n",
      "稀疏度：93.70%\n"
     ]
    }
   ],
   "source": [
    "print('------数据集规模------')\n",
    "print('用户数：', len(df.user.unique()))\n",
    "print('电影数：', len(df.item.unique()))\n",
    "print('评分数：', len(df))\n",
    "print(f'稀疏度：{1 - len(df) / len(df.user.unique()) / len(df.item.unique()):.2%}')"
   ]
  },
  {
   "cell_type": "code",
   "execution_count": 28,
   "metadata": {},
   "outputs": [
    {
     "data": {
      "text/plain": [
       "<matplotlib.axes._subplots.AxesSubplot at 0x125797940>"
      ]
     },
     "execution_count": 28,
     "metadata": {},
     "output_type": "execute_result"
    },
    {
     "data": {
      "image/png": "[encoded data removed]",
      "text/plain": [
       "<Figure size 864x576 with 1 Axes>"
      ]
     },
     "metadata": {
      "needs_background": "light"
     },
     "output_type": "display_data"
    }
   ],
   "source": [
    "# 用户点评电影频次分布直方图\n",
    "df.groupby(by='user')['item'].count().hist(bins=100, figsize=(12, 8))"
   ]
  },
  {
   "cell_type": "code",
   "execution_count": 29,
   "metadata": {},
   "outputs": [
    {
     "data": {
      "text/plain": [
       "<matplotlib.axes._subplots.AxesSubplot at 0x11f4d2b70>"
      ]
     },
     "execution_count": 29,
     "metadata": {},
     "output_type": "execute_result"
    },
    {
     "data": {
      "image/png": "[encoded data removed]",
      "text/plain": [
       "<Figure size 864x576 with 1 Axes>"
      ]
     },
     "metadata": {
      "needs_background": "light"
     },
     "output_type": "display_data"
    }
   ],
   "source": [
    "# 电影被用户点评频次分布直方图\n",
    "df.groupby(by='item')['user'].count().hist(bins=100, figsize=(12, 8))"
   ]
  },
  {
   "cell_type": "code",
   "execution_count": 30,
   "metadata": {},
   "outputs": [
    {
     "data": {
      "text/plain": [
       "<matplotlib.axes._subplots.AxesSubplot at 0x11bc26be0>"
      ]
     },
     "execution_count": 30,
     "metadata": {},
     "output_type": "execute_result"
    },
    {
     "data": {
      "image/png": "[encoded data removed]",
      "text/plain": [
       "<Figure size 864x576 with 1 Axes>"
      ]
     },
     "metadata": {
      "needs_background": "light"
     },
     "output_type": "display_data"
    }
   ],
   "source": [
    "# 电影评分大小分布图\n",
    "df.groupby(by='rating')['user'].count().plot(kind='bar', figsize=(12, 8), rot=0)"
   ]
  },
  {
   "cell_type": "markdown",
   "metadata": {},
   "source": [
    "# 3. 评估指标\n",
    "本次分析用到两个指标`RMSE`（均方根误差）与`MAE`（平均绝对误差），两个方法都已经实现于[`accuracy`](https://surprise.readthedocs.io/en/stable/accuracy.html)模块中，即\n",
    "> ```python\n",
    "> surprise.accuracy.rmse(predictions, verbose=True)\n",
    "> surprise.accuracy.mae(predictions, verbose=True)\n",
    "> ```\n",
    "\n",
    "这些方法的返回值为指标计算结果。对于输入的两个参数：`predictions`根据具体算法类中的`test()`方法得到；`verbose`决定是否格式化输出指标结果。"
   ]
  },
  {
   "cell_type": "markdown",
   "metadata": {},
   "source": [
    "# 4. 数据集划分\n",
    "在推荐模型的训练与评估中，我们往往需要将数据集拆分成训练集与测试集。Surprise已在`surprise.model_selection`模块中，以**迭代器**（iterator）的形式构建了常见的交叉验证类，此外也有随机划分的方法。\n",
    "\n",
    "关于迭代器：尽管我们能用方法[`cross_validate()`](https://surprise.readthedocs.io/en/stable/model_selection.html#surprise.model_selection.validation.cross_validate)实现交叉验证，但通过实例化每一次交叉验证迭代器、并结合方法`split()`，可以实现更好地控制每一次验证。\n",
    "## 4.1. 交叉验证法\n",
    "交叉验证对于数据量较小的数据集比较实用。它的思路简要来说是将数据集分为k份，每次将其中k-1作为训练集、剩下一份作为测试集，一共进行k次。对应Surprise中的[`KFold`](https://surprise.readthedocs.io/en/stable/model_selection.html#surprise.model_selection.split.KFold)类，其中传入三个参数：\n",
    "> - `n_splits`：默认为5，交叉验证的折数（k）.\n",
    "> - `random_state`：默认为None，随机数种子。\n",
    "> - `shuffle`：默认为True，是否将数据集打乱后再拆分。"
   ]
  },
  {
   "cell_type": "code",
   "execution_count": 19,
   "metadata": {},
   "outputs": [
    {
     "name": "stdout",
     "output_type": "stream",
     "text": [
      "RMSE: 0.9391\n",
      "RMSE: 0.9465\n",
      "RMSE: 0.9444\n",
      "测试集大小:  33333\n",
      "测试集用户数： 943\n"
     ]
    }
   ],
   "source": [
    "kf = KFold(n_splits=3, random_state=1)\n",
    "algo = SVD()\n",
    "\n",
    "for trainset, testset in kf.split(data):\n",
    "    algo.fit(trainset)\n",
    "    predictions = algo.test(testset)\n",
    "    accuracy.rmse(predictions, verbose=True)\n",
    "print('测试集大小: ', len(testset))\n",
    "print('测试集用户数：', len(set([x[0] for x in testset])))"
   ]
  },
  {
   "cell_type": "markdown",
   "metadata": {},
   "source": [
    "## 4.2. 留一法\n",
    "[`LeaveOneOut`](https://surprise.readthedocs.io/en/stable/model_selection.html#surprise.model_selection.split.LeaveOneOut)是Surprise提供的一种特殊的交叉验证类，它拆分出的测试集中**每个用户**都有且仅有一条评分记录。\n",
    "\n",
    "> 这里的拆分不同于通常的留一法（例如，sklearn的[LeaveOneOut](https://scikit-learn.org/stable/modules/generated/sklearn.model_selection.LeaveOneOut.html#sklearn-model-selection-leaveoneout)）测试集仅保留一条记录、并对完整数据的每一条记录都作为测试集进行一次交叉验证。Surprise库的LeaveOneOut测试集数目与用户数相同，且可以指定折数（而不是一定等于数据集大小）。\n",
    "\n",
    "用到的参数如下：\n",
    "> - `n_splits`：默认为5，交叉验证的折数。\n",
    "> - `random_state`：默认为None，随机数种子。\n",
    "> - `min_n_ratings`：默认为0，训练集中用户至少具有的评分数，少于min_n_ratings的用户将从训练集删除。"
   ]
  },
  {
   "cell_type": "code",
   "execution_count": 18,
   "metadata": {},
   "outputs": [
    {
     "name": "stdout",
     "output_type": "stream",
     "text": [
      "RMSE: 1.0131\n",
      "RMSE: 0.9318\n",
      "RMSE: 0.9636\n",
      "测试集大小:  943\n",
      "测试集用户数： 943\n"
     ]
    }
   ],
   "source": [
    "loo = LeaveOneOut(n_splits=3, random_state=1)\n",
    "algo = SVD()\n",
    "\n",
    "for trainset, testset in loo.split(data):\n",
    "    algo.fit(trainset)\n",
    "    predictions = algo.test(testset)\n",
    "    accuracy.rmse(predictions, verbose=True)\n",
    "print('测试集大小: ', len(testset))\n",
    "print('测试集用户数：', len(set([x[0] for x in testset])))"
   ]
  },
  {
   "cell_type": "markdown",
   "metadata": {},
   "source": [
    "\n",
    "## 4.3. 随机划分法\n",
    "当数据量足够模型训练时，往往仅需要进行一次随机划分即可，对应Surprise中实现的方法[`train_test_split()`](https://surprise.readthedocs.io/en/stable/model_selection.html#surprise.model_selection.split.train_test_split)（这里不是迭代器）。\n",
    "\n",
    "主要用到三个参数:\t\n",
    "> - `data`：需要拆分的数据集。\n",
    "> - `test_size`：默认为0.2，传入为`float`表示测试集占原始数据的比例，传入为`int`时为测试集大小。\n",
    "> - `random_state`：默认为None，随机数种子。\n",
    "\n",
    "该函数将最终同时返回训练集(surprise.trainset.Trainset)与测试集(list)。"
   ]
  },
  {
   "cell_type": "code",
   "execution_count": 9,
   "metadata": {},
   "outputs": [
    {
     "name": "stdout",
     "output_type": "stream",
     "text": [
      "RMSE: 0.9415\n",
      "MAE:  0.7407\n",
      "训练集大小：75000，测试集大小：25000\n"
     ]
    }
   ],
   "source": [
    "# 测试集将占总数据的25%\n",
    "trainset, testset = train_test_split(data, test_size=.25, random_state=1)\n",
    "\n",
    "algo = SVD()\n",
    "algo.fit(trainset)\n",
    "predictions = algo.test(testset)\n",
    "\n",
    "accuracy.rmse(predictions)\n",
    "accuracy.mae(predictions)\n",
    "print('训练集大小：%d，测试集大小：%d' %(trainset.n_ratings, len(testset)))"
   ]
  },
  {
   "cell_type": "markdown",
   "metadata": {},
   "source": [
    "# 5. 推荐算法对比"
   ]
  },
  {
   "cell_type": "code",
   "execution_count": 10,
   "metadata": {},
   "outputs": [],
   "source": [
    "rmse = dict()\n",
    "mae = dict()"
   ]
  },
  {
   "cell_type": "markdown",
   "metadata": {},
   "source": [
    "## 5.1. 基于近邻的协同过滤\n",
    "#### 5.1.1. 相似度衡量\n",
    "\n",
    "根据实际情况的需要，我们需要设置不同的相似度指标应用于对应近邻方法，在Surprise库中，需要做的则是构建近邻算法时传入参数[`sim_options`](https://surprise.readthedocs.io/en/stable/prediction_algorithms.html#similarity-measure-configuration)，该参数以字典形式主要用到如下键值：\n",
    "> - [`'name'`](https://surprise.readthedocs.io/en/stable/similarities.html#module-surprise.similarities)：默认为`'MSD'`，使用的相似度指标，常用的有`'MSD'`（均方距离）、`'cosine'`（cosine相似度）。\n",
    "> - `'user_based'`：默认为True，此时计算用户之间的相似度；否则计算电影之间的相似度。\n",
    "> - `'min_support'`：默认为1，（user_base为True时）若用户u与用户v间共同评分的电影数小于min_support时，$\\text{sim}(u, v)=0$\n",
    "\n",
    "例如我们可以如下定义:\n",
    "```python\n",
    "# 计算电影之间的cosine相似度\n",
    "sim_options = {\n",
    "    'name': 'cosine',\n",
    "    'user_based': False,\n",
    "    'min_support': 5,\n",
    "}\n",
    "```"
   ]
  },
  {
   "cell_type": "markdown",
   "metadata": {},
   "source": [
    "### 5.1.2. itemKNN\n",
    "基于item的协同过滤，通过计算不同item（如电影）之间的相似度，进而对用户$u$关于电影$j$的评分预测。在给定电影$j$的近邻$N_j$时，公式为\n",
    "$$\n",
    "\\hat{r}_{uj} = \\frac{\\sum_{i\\in N_j}\\text{sim}(i, j) \\times r_{ui}}\n",
    "                    {\\sum_{i\\in N_j}\\text{sim}(i, j)}\n",
    "$$\n",
    "Surprise中的[`KNNBasic`](https://surprise.readthedocs.io/en/stable/knn_inspired.html?highlight=knn#surprise.prediction_algorithms.knns.KNNBasic)对该模型进行实现，用到的参数如下:\n",
    "> - `k`：默认值为40，近邻的最大数量。\n",
    "> - `min_k`：默认值为1。考虑近邻数不够时（$|N_j|<\\text{min_k}$），预测值为整体均值。\n",
    "> - `sim_options`（dict）：相似度参数设置，详见[sim_options](https://surprise.readthedocs.io/en/stable/prediction_algorithms.html#similarity-measure-configuration)。\n",
    "> - `verbose`（bool）：默认为True，是否输出详细信息。\n",
    "\n",
    "> **注**：此时`sim_options`的`'user_based'`必须为False！"
   ]
  },
  {
   "cell_type": "code",
   "execution_count": 31,
   "metadata": {},
   "outputs": [
    {
     "name": "stdout",
     "output_type": "stream",
     "text": [
      "Computing the cosine similarity matrix...\n",
      "Done computing similarity matrix.\n",
      "RMSE: 1.0349\n",
      "MAE:  0.8204\n"
     ]
    }
   ],
   "source": [
    "sim_options = {\n",
    "    'name': 'cosine',\n",
    "    'user_based': False,  # 基于item时必须为False!\n",
    "}\n",
    "algo = KNNBasic(sim_options=sim_options)\n",
    "algo.fit(trainset)\n",
    "predictions = algo.test(testset)\n",
    "\n",
    "rmse['itemKNN'] = accuracy.rmse(predictions)\n",
    "mae['itemKNN'] = accuracy.mae(predictions)"
   ]
  },
  {
   "cell_type": "markdown",
   "metadata": {},
   "source": [
    "### 5.1.3. userKNN\n",
    "基于用户的协同过滤，通过计算用户之间的相似度来预测用户对电影的评分，并且考虑不同个体平均评分$\\bar{r}_u$的影响，一定程度上能反应不同用户的打分偏好的高低。具体来说，基于userKNN的偏好评分预测公式为：\n",
    "$$\n",
    "\\hat{r}_{uj} = \\bar{r}_u + \\frac{\\sum_{v\\in N_u}\\text{sim}(u,v) \\times (r_{vj} - \\bar{r}_v)}\n",
    "                                {\\sum_{v\\in N_u}\\text{sim}(u, v)}\n",
    "$$\n",
    "[`KNNWithMeans`](https://surprise.readthedocs.io/en/stable/knn_inspired.html?highlight=knn#surprise.prediction_algorithms.knns.KNNWithMeans)实现了考虑评分均值的KNN，用到的参数与`KNNBasic`相同。同样的，此时`sim_options`的`'user_based'`必须为True！\n"
   ]
  },
  {
   "cell_type": "code",
   "execution_count": 32,
   "metadata": {},
   "outputs": [
    {
     "name": "stdout",
     "output_type": "stream",
     "text": [
      "Computing the cosine similarity matrix...\n",
      "Done computing similarity matrix.\n",
      "RMSE: 0.9610\n",
      "MAE:  0.7579\n"
     ]
    }
   ],
   "source": [
    "sim_options = {\n",
    "    'name': 'cosine',\n",
    "    'user_based': True,  # 基于user时必须为True!\n",
    "}\n",
    "algo = KNNWithMeans(sim_options=sim_options)\n",
    "algo.fit(trainset)\n",
    "predictions = algo.test(testset)\n",
    "\n",
    "rmse['userKNN'] = accuracy.rmse(predictions)\n",
    "mae['userKNN'] = accuracy.mae(predictions)"
   ]
  },
  {
   "cell_type": "markdown",
   "metadata": {},
   "source": [
    "## 5.2. 基于矩阵分解的协同过滤\n",
    "矩阵分解的方法对应Surprise已经实现对应的类[SVD](https://surprise.readthedocs.io/en/stable/matrix_factorization.html#surprise.prediction_algorithms.matrix_factorization.SVD)。通过随机梯度下降(SGD)对下述目标函数进行优化：\n",
    "$$\n",
    "\\min_{p,q,b}\\sum_{r_{ui}\\in R_{train}}\\left [(r_{ui} - \\hat{r}_{ui})^2 + \\lambda(b_i^2 + b_u^2 + \\left \\| p_u \\right \\|^2  + \\left \\| q_i \\right \\| ^ 2 )\\right ]\n",
    "$$\n",
    "不考虑偏置项$b_i$、$b_u$时，此时预测$\\hat{r}_{ui}=q_i^\\top p_u$，模型转化为MF（Matrix Factorization）。\n",
    "\n",
    "主要用到的参数有:\t\n",
    "> - `n_factors`：默认为100，$q_i$、$p_u$的维度。\n",
    "> - `n_epochs`：默认为20，SGD过程的迭代次数。\n",
    "> - `biased`：默认为True，是否引入偏置项。当biased为False时转化为MF模型。\n",
    "> - `init_mean`：默认为0，各参数初始化时（正态）分布的均值。\n",
    "> - `init_std_dev`：默认为0.1，各参数初始化时（正态）分布的标准差。\n",
    "> - `lr_all`：默认为0.005，SGD时所用的学习率。\n",
    "> - `reg_all`：默认为0.02，正则项的系数$\\lambda$。\n",
    "> - `random_state`：默认为None，模型的随机数种子。\n",
    "> - `verbose` – 默认为False，是否输出Epoch迭代情况。"
   ]
  },
  {
   "cell_type": "code",
   "execution_count": 33,
   "metadata": {},
   "outputs": [
    {
     "name": "stdout",
     "output_type": "stream",
     "text": [
      "RMSE: 0.9454\n",
      "MAE:  0.7463\n"
     ]
    }
   ],
   "source": [
    "# 5.2.1.SVD: (biased=True)\n",
    "algo = SVD(random_state=1)\n",
    "algo.fit(trainset)\n",
    "predictions = algo.test(testset)\n",
    "\n",
    "rmse['SVD'] = accuracy.rmse(predictions)\n",
    "mae['SVD'] = accuracy.mae(predictions)"
   ]
  },
  {
   "cell_type": "code",
   "execution_count": 34,
   "metadata": {},
   "outputs": [
    {
     "name": "stdout",
     "output_type": "stream",
     "text": [
      "RMSE: 0.9617\n",
      "MAE:  0.7595\n"
     ]
    }
   ],
   "source": [
    "# 5.2.2.MF: (biased=False)\n",
    "algo = SVD(biased=False, random_state=1)\n",
    "algo.fit(trainset)\n",
    "predictions = algo.test(testset)\n",
    "\n",
    "rmse['MF'] = accuracy.rmse(predictions)\n",
    "mae['MF'] = accuracy.mae(predictions)"
   ]
  },
  {
   "cell_type": "code",
   "execution_count": 36,
   "metadata": {},
   "outputs": [
    {
     "data": {
      "text/html": [
       "<div>\n",
       "<style scoped>\n",
       "    .dataframe tbody tr th:only-of-type {\n",
       "        vertical-align: middle;\n",
       "    }\n",
       "\n",
       "    .dataframe tbody tr th {\n",
       "        vertical-align: top;\n",
       "    }\n",
       "\n",
       "    .dataframe thead th {\n",
       "        text-align: right;\n",
       "    }\n",
       "</style>\n",
       "<table border=\"1\" class=\"dataframe\">\n",
       "  <thead>\n",
       "    <tr style=\"text-align: right;\">\n",
       "      <th></th>\n",
       "      <th>RMSE</th>\n",
       "      <th>MAE</th>\n",
       "    </tr>\n",
       "  </thead>\n",
       "  <tbody>\n",
       "    <tr>\n",
       "      <th>itemKNN</th>\n",
       "      <td>1.034911</td>\n",
       "      <td>0.820358</td>\n",
       "    </tr>\n",
       "    <tr>\n",
       "      <th>userKNN</th>\n",
       "      <td>0.961010</td>\n",
       "      <td>0.757864</td>\n",
       "    </tr>\n",
       "    <tr>\n",
       "      <th>SVD</th>\n",
       "      <td>0.945420</td>\n",
       "      <td>0.746290</td>\n",
       "    </tr>\n",
       "    <tr>\n",
       "      <th>MF</th>\n",
       "      <td>0.961665</td>\n",
       "      <td>0.759512</td>\n",
       "    </tr>\n",
       "  </tbody>\n",
       "</table>\n",
       "</div>"
      ],
      "text/plain": [
       "             RMSE       MAE\n",
       "itemKNN  1.034911  0.820358\n",
       "userKNN  0.961010  0.757864\n",
       "SVD      0.945420  0.746290\n",
       "MF       0.961665  0.759512"
      ]
     },
     "execution_count": 36,
     "metadata": {},
     "output_type": "execute_result"
    }
   ],
   "source": [
    "metrics_df = pd.DataFrame({'RMSE': rmse, 'MAE': mae})\n",
    "metrics_df"
   ]
  },
  {
   "cell_type": "markdown",
   "metadata": {},
   "source": [
    "\n",
    "# 6. 参数调节\n",
    "调参常用的方法为*网格搜索*，主要思想是根据不同的参数组合寻找性能最优的参数。Surprise中的[`GridSearchCV`](https://surprise.readthedocs.io/en/stable/model_selection.html#surprise.model_selection.search.GridSearchCV)通过提供的参数可能`param_grid`，用交叉验证的方法计算出对于算法`algo_class`的最优参数组合。\n",
    "\n",
    "常用的参数有：\n",
    "> - algo_class（AlgoBase）：待检测的算法类。\n",
    "> - param_grid（dict）：需要测试的参数与对应的可能值（list）。\n",
    "> - measures：默认为`['rmse', 'mae']`，模型衡量的指标。\n",
    "> - cv：交叉验证的折数，默认进行5折交叉验证。\n",
    "> - n_jobs：默认为1，并行训练数目，实现加速运算。\n",
    "\n",
    "以SVD为例，如果我们想尝试寻找`n_epochs`、`lr_all`和`reg_all`，则将所用到的参数名和参数值存放在字典`param_grid`中。例如，对于\n",
    "```python\n",
    "param_grid = {\n",
    "    'n_epochs': [5, 10],\n",
    "    'lr_all': [0.001,  0.01, 0.02],\n",
    "    'reg_all': [0.04, 0.08],\n",
    "}\n",
    "```\n",
    "将运算$2\\times3\\times2=12$种参数组合。"
   ]
  },
  {
   "cell_type": "code",
   "execution_count": 37,
   "metadata": {},
   "outputs": [],
   "source": [
    "param_grid = {\n",
    "    'n_epochs': [5, 10],\n",
    "    'lr_all': [0.001,  0.01, 0.02],\n",
    "    'reg_all': [0.04, 0.08],\n",
    "}\n",
    "gs = GridSearchCV(SVD, param_grid, measures=['rmse', 'mae'], cv=3, n_jobs=4)\n",
    "gs.fit(data)"
   ]
  },
  {
   "cell_type": "code",
   "execution_count": 38,
   "metadata": {},
   "outputs": [
    {
     "name": "stdout",
     "output_type": "stream",
     "text": [
      "对于RMSE：\n",
      "最好分数： 0.9282924339049193\n",
      "对应参数： {'n_epochs': 10, 'lr_all': 0.02, 'reg_all': 0.08}\n",
      "对于MAE：\n",
      "最好分数： 0.7340437936342292\n",
      "对应参数： {'n_epochs': 10, 'lr_all': 0.02, 'reg_all': 0.08}\n"
     ]
    }
   ],
   "source": [
    "print('对于RMSE：')\n",
    "print('最好分数：', gs.best_score['rmse'])\n",
    "print('对应参数：', gs.best_params['rmse'])\n",
    "print('对于MAE：')\n",
    "print('最好分数：', gs.best_score['mae'])\n",
    "print('对应参数：', gs.best_params['mae'])"
   ]
  },
  {
   "cell_type": "code",
   "execution_count": 43,
   "metadata": {},
   "outputs": [],
   "source": [
    "# 可以利用best_estimator获取最好模型\n",
    "algo_rmse = gs.best_estimator['rmse']\n",
    "algo_mae = gs.best_estimator['mae']"
   ]
  }
 ],
 "metadata": {
  "kernelspec": {
   "display_name": "Python 3",
   "language": "python",
   "name": "python3"
  },
  "language_info": {
   "codemirror_mode": {
    "name": "ipython",
    "version": 3
   },
   "file_extension": ".py",
   "mimetype": "text/x-python",
   "name": "python",
   "nbconvert_exporter": "python",
   "pygments_lexer": "ipython3",
   "version": "3.7.6"
  },
  "toc": {
   "base_numbering": 1,
   "nav_menu": {},
   "number_sections": false,
   "sideBar": true,
   "skip_h1_title": false,
   "title_cell": "Table of Contents",
   "title_sidebar": "Contents",
   "toc_cell": false,
   "toc_position": {},
   "toc_section_display": true,
   "toc_window_display": false
  },
  "varInspector": {
   "cols": {
    "lenName": 16,
    "lenType": 16,
    "lenVar": 40
   },
   "kernels_config": {
    "python": {
     "delete_cmd_postfix": "",
     "delete_cmd_prefix": "del ",
     "library": "var_list.py",
     "varRefreshCmd": "print(var_dic_list())"
    },
    "r": {
     "delete_cmd_postfix": ") ",
     "delete_cmd_prefix": "rm(",
     "library": "var_list.r",
     "varRefreshCmd": "cat(var_dic_list()) "
    }
   },
   "types_to_exclude": [
    "module",
    "function",
    "builtin_function_or_method",
    "instance",
    "_Feature"
   ],
   "window_display": false
  }
 },
 "nbformat": 4,
 "nbformat_minor": 4
}
