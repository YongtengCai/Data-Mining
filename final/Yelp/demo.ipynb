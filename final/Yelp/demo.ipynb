{
 "cells": [
  {
   "cell_type": "markdown",
   "id": "7cd4013e",
   "metadata": {},
   "source": [
    "# 数据预处理"
   ]
  },
  {
   "cell_type": "code",
   "execution_count": null,
   "id": "94d9c571",
   "metadata": {},
   "outputs": [
    {
     "data": {
      "text/html": [
       "<div>\n",
       "<style scoped>\n",
       "    .dataframe tbody tr th:only-of-type {\n",
       "        vertical-align: middle;\n",
       "    }\n",
       "\n",
       "    .dataframe tbody tr th {\n",
       "        vertical-align: top;\n",
       "    }\n",
       "\n",
       "    .dataframe thead th {\n",
       "        text-align: right;\n",
       "    }\n",
       "</style>\n",
       "<table border=\"1\" class=\"dataframe\">\n",
       "  <thead>\n",
       "    <tr style=\"text-align: right;\">\n",
       "      <th></th>\n",
       "      <th>business_id</th>\n",
       "      <th>name</th>\n",
       "      <th>address</th>\n",
       "      <th>latitude</th>\n",
       "      <th>longitude</th>\n",
       "      <th>stars</th>\n",
       "      <th>review_count</th>\n",
       "      <th>is_open</th>\n",
       "      <th>categories</th>\n",
       "    </tr>\n",
       "  </thead>\n",
       "  <tbody>\n",
       "    <tr>\n",
       "      <th>0</th>\n",
       "      <td>MTSW4McQd7CbVtyjqoe9mw</td>\n",
       "      <td>St Honore Pastries</td>\n",
       "      <td>935 Race St</td>\n",
       "      <td>39.955505</td>\n",
       "      <td>-75.155564</td>\n",
       "      <td>4.0</td>\n",
       "      <td>80</td>\n",
       "      <td>1</td>\n",
       "      <td>Food, Bubble Tea, Coffee &amp; Tea, Bakeries</td>\n",
       "    </tr>\n",
       "    <tr>\n",
       "      <th>1</th>\n",
       "      <td>MUTTqe8uqyMdBl186RmNeA</td>\n",
       "      <td>Tuna Bar</td>\n",
       "      <td>205 Race St</td>\n",
       "      <td>39.953949</td>\n",
       "      <td>-75.143226</td>\n",
       "      <td>4.0</td>\n",
       "      <td>245</td>\n",
       "      <td>1</td>\n",
       "      <td>Sushi Bars, Japanese</td>\n",
       "    </tr>\n",
       "    <tr>\n",
       "      <th>2</th>\n",
       "      <td>ROeacJQwBeh05Rqg7F6TCg</td>\n",
       "      <td>BAP</td>\n",
       "      <td>1224 South St</td>\n",
       "      <td>39.943223</td>\n",
       "      <td>-75.162568</td>\n",
       "      <td>4.5</td>\n",
       "      <td>205</td>\n",
       "      <td>1</td>\n",
       "      <td>Korean</td>\n",
       "    </tr>\n",
       "    <tr>\n",
       "      <th>3</th>\n",
       "      <td>QdN72BWoyFypdGJhhI5r7g</td>\n",
       "      <td>Bar One</td>\n",
       "      <td>767 S 9th St</td>\n",
       "      <td>39.939825</td>\n",
       "      <td>-75.157447</td>\n",
       "      <td>4.0</td>\n",
       "      <td>65</td>\n",
       "      <td>0</td>\n",
       "      <td>Cocktail Bars, Bars, Italian, Nightlife</td>\n",
       "    </tr>\n",
       "    <tr>\n",
       "      <th>4</th>\n",
       "      <td>Mjboz24M9NlBeiOJKLEd_Q</td>\n",
       "      <td>DeSandro on Main</td>\n",
       "      <td>4105 Main St</td>\n",
       "      <td>40.022466</td>\n",
       "      <td>-75.218314</td>\n",
       "      <td>3.0</td>\n",
       "      <td>41</td>\n",
       "      <td>0</td>\n",
       "      <td>Pizza, Salad, Soup</td>\n",
       "    </tr>\n",
       "  </tbody>\n",
       "</table>\n",
       "</div>"
      ],
      "text/plain": [
       "              business_id                name        address   latitude  \\\n",
       "0  MTSW4McQd7CbVtyjqoe9mw  St Honore Pastries    935 Race St  39.955505   \n",
       "1  MUTTqe8uqyMdBl186RmNeA            Tuna Bar    205 Race St  39.953949   \n",
       "2  ROeacJQwBeh05Rqg7F6TCg                 BAP  1224 South St  39.943223   \n",
       "3  QdN72BWoyFypdGJhhI5r7g             Bar One   767 S 9th St  39.939825   \n",
       "4  Mjboz24M9NlBeiOJKLEd_Q    DeSandro on Main   4105 Main St  40.022466   \n",
       "\n",
       "   longitude  stars  review_count  is_open  \\\n",
       "0 -75.155564    4.0            80        1   \n",
       "1 -75.143226    4.0           245        1   \n",
       "2 -75.162568    4.5           205        1   \n",
       "3 -75.157447    4.0            65        0   \n",
       "4 -75.218314    3.0            41        0   \n",
       "\n",
       "                                 categories  \n",
       "0  Food, Bubble Tea, Coffee & Tea, Bakeries  \n",
       "1                      Sushi Bars, Japanese  \n",
       "2                                    Korean  \n",
       "3   Cocktail Bars, Bars, Italian, Nightlife  \n",
       "4                        Pizza, Salad, Soup  "
      ]
     },
     "execution_count": 4,
     "metadata": {},
     "output_type": "execute_result"
    }
   ],
   "source": [
    "#导入数据\n",
    "import pandas as pd\n",
    "data = pd.read_csv(r'E:\\本科\\数据挖掘与商务分析\\hw\\final\\Yelp\\sample\\restaurants_at_pa.txt', sep='\\t')\n",
    "data.head()"
   ]
  },
  {
   "cell_type": "code",
   "execution_count": 5,
   "id": "180a4103",
   "metadata": {},
   "outputs": [
    {
     "name": "stdout",
     "output_type": "stream",
     "text": [
      "<class 'pandas.core.frame.DataFrame'>\n",
      "RangeIndex: 5852 entries, 0 to 5851\n",
      "Data columns (total 9 columns):\n",
      " #   Column        Non-Null Count  Dtype  \n",
      "---  ------        --------------  -----  \n",
      " 0   business_id   5852 non-null   object \n",
      " 1   name          5852 non-null   object \n",
      " 2   address       5825 non-null   object \n",
      " 3   latitude      5852 non-null   float64\n",
      " 4   longitude     5852 non-null   float64\n",
      " 5   stars         5852 non-null   float64\n",
      " 6   review_count  5852 non-null   int64  \n",
      " 7   is_open       5852 non-null   int64  \n",
      " 8   categories    5829 non-null   object \n",
      "dtypes: float64(3), int64(2), object(4)\n",
      "memory usage: 411.6+ KB\n"
     ]
    }
   ],
   "source": [
    "# 查看数据详情\n",
    "data.info()"
   ]
  },
  {
   "cell_type": "code",
   "execution_count": 6,
   "id": "1809a05d",
   "metadata": {},
   "outputs": [
    {
     "name": "stdout",
     "output_type": "stream",
     "text": [
      "<class 'pandas.core.frame.DataFrame'>\n",
      "Index: 5802 entries, 0 to 5851\n",
      "Data columns (total 9 columns):\n",
      " #   Column        Non-Null Count  Dtype  \n",
      "---  ------        --------------  -----  \n",
      " 0   business_id   5802 non-null   object \n",
      " 1   name          5802 non-null   object \n",
      " 2   address       5802 non-null   object \n",
      " 3   latitude      5802 non-null   float64\n",
      " 4   longitude     5802 non-null   float64\n",
      " 5   stars         5802 non-null   float64\n",
      " 6   review_count  5802 non-null   int64  \n",
      " 7   is_open       5802 non-null   int64  \n",
      " 8   categories    5802 non-null   object \n",
      "dtypes: float64(3), int64(2), object(4)\n",
      "memory usage: 453.3+ KB\n"
     ]
    }
   ],
   "source": [
    "#删除空值\n",
    "data = data.dropna()\n",
    "data.info()\n"
   ]
  },
  {
   "cell_type": "markdown",
   "id": "ed490839",
   "metadata": {},
   "source": [
    "## 拆解categories字段"
   ]
  },
  {
   "cell_type": "code",
   "execution_count": null,
   "id": "d38cb707",
   "metadata": {},
   "outputs": [
    {
     "data": {
      "image/png": "[encoded data removed]",
      "text/plain": [
       "<Figure size 1000x600 with 1 Axes>"
      ]
     },
     "metadata": {},
     "output_type": "display_data"
    },
    {
     "data": {
      "text/plain": [
       "[' Food',\n",
       " ' Nightlife',\n",
       " ' Bars',\n",
       " ' Sandwiches',\n",
       " ' American (New)',\n",
       " ' American (Traditional)',\n",
       " ' Breakfast & Brunch',\n",
       " 'Food',\n",
       " ' Coffee & Tea',\n",
       " 'Pizza']"
      ]
     },
     "execution_count": 22,
     "metadata": {},
     "output_type": "execute_result"
    }
   ],
   "source": [
    "#拆分类别\n",
    "all_categories = data['categories'].str.split(',', expand=True).stack()\n",
    "all_categories.value_counts()\n",
    "\n",
    "#可视化前10个\n",
    "import matplotlib.pyplot as plt\n",
    "plt.figure(figsize=(10, 6))\n",
    "all_categories.value_counts().head(10).plot(kind='bar')\n",
    "plt.title('Distribution of Categories')\n",
    "plt.xlabel('Category')\n",
    "plt.ylabel('Count')\n",
    "plt.xticks(rotation=90)\n",
    "plt.show()\n",
    "\n",
    "#top10\n",
    "top_categories = all_categories.value_counts().head(10).index.tolist()\n",
    "top_categories"
   ]
  },
  {
   "cell_type": "code",
   "execution_count": 23,
   "id": "2c485e83",
   "metadata": {},
   "outputs": [],
   "source": [
    "#为top10category进行onehot编码\n",
    "\n"
   ]
  }
 ],
 "metadata": {
  "kernelspec": {
   "display_name": "base",
   "language": "python",
   "name": "python3"
  },
  "language_info": {
   "codemirror_mode": {
    "name": "ipython",
    "version": 3
   },
   "file_extension": ".py",
   "mimetype": "text/x-python",
   "name": "python",
   "nbconvert_exporter": "python",
   "pygments_lexer": "ipython3",
   "version": "3.12.3"
  }
 },
 "nbformat": 4,
 "nbformat_minor": 5
}
