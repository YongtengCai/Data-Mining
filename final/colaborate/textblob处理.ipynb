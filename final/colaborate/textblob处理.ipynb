{
 "cells": [
  {
   "cell_type": "code",
   "execution_count": 1,
   "id": "78046fc6-ef9b-49d8-ac88-0c64b985dba9",
   "metadata": {},
   "outputs": [
    {
     "name": "stderr",
     "output_type": "stream",
     "text": [
      "<>:7: SyntaxWarning: invalid escape sequence '\\h'\n",
      "<>:22: SyntaxWarning: invalid escape sequence '\\h'\n",
      "<>:7: SyntaxWarning: invalid escape sequence '\\h'\n",
      "<>:22: SyntaxWarning: invalid escape sequence '\\h'\n",
      "C:\\Users\\Barry\\AppData\\Local\\Temp\\ipykernel_4724\\546872467.py:7: SyntaxWarning: invalid escape sequence '\\h'\n",
      "  df = pd.read_csv('E:\\本科\\数据挖掘与商务分析\\hw/final\\IMDB Dataset_with_tags.csv')\n",
      "C:\\Users\\Barry\\AppData\\Local\\Temp\\ipykernel_4724\\546872467.py:22: SyntaxWarning: invalid escape sequence '\\h'\n",
      "  output_file_name = 'E:\\本科\\数据挖掘与商务分析\\hw/final\\IMDB_Dataset_with_TextBlob_sentiment.csv'\n"
     ]
    }
   ],
   "source": [
    "import pandas as pd\n",
    "from textblob import TextBlob\n",
    "from sklearn.model_selection import train_test_split\n",
    "from sklearn.metrics import precision_score, recall_score, f1_score, roc_auc_score\n",
    "\n",
    " #加载数据\n",
    "df = pd.read_csv('E:\\本科\\数据挖掘与商务分析\\hw/final\\IMDB Dataset_with_tags.csv')\n",
    "\n",
    " #使用TextBlob进行情感分析\n",
    "def textblob_sentiment(text):\n",
    "    blob = TextBlob(text)\n",
    "    return 1 if blob.sentiment.polarity > 0 else 0\n",
    "def textblob_sentiment1(text):\n",
    "    blob = TextBlob(text)\n",
    "    return blob.sentiment.polarity\n",
    "\n",
    "#应用情感分析函数\n",
    "df['textblob_sentiment'] = df['review'].apply(textblob_sentiment)\n",
    "df['textblob_sentiment_score'] = df['review'].apply(textblob_sentiment1)\n",
    "\n",
    "#将结果保存为新的 CSV 文件\n",
    "output_file_name = 'E:\\本科\\数据挖掘与商务分析\\hw/final\\IMDB_Dataset_with_TextBlob_sentiment.csv'\n",
    "df.to_csv(output_file_name, index=False, encoding='utf-8-sig')"
   ]
  }
 ],
 "metadata": {
  "kernelspec": {
   "display_name": "base",
   "language": "python",
   "name": "python3"
  },
  "language_info": {
   "codemirror_mode": {
    "name": "ipython",
    "version": 3
   },
   "file_extension": ".py",
   "mimetype": "text/x-python",
   "name": "python",
   "nbconvert_exporter": "python",
   "pygments_lexer": "ipython3",
   "version": "3.12.3"
  }
 },
 "nbformat": 4,
 "nbformat_minor": 5
}
