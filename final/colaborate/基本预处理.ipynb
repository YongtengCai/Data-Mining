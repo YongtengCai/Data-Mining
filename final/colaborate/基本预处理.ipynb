{
 "cells": [
  {
   "cell_type": "markdown",
   "id": "cabe54c8-fdc6-4464-b832-7d2ccffb37d8",
   "metadata": {},
   "source": [
    "数据预处理\n",
    "使用jieba分词，对微博内容进行文本预处理"
   ]
  },
  {
   "cell_type": "code",
   "execution_count": null,
   "id": "4afde20e-2689-4d28-8e28-f02a0e6818ea",
   "metadata": {},
   "outputs": [],
   "source": [
    "import matplotlib.pyplot as plt \n",
    "import pandas as pd \n",
    "import numpy as np\n",
    "import warnings\n",
    "warnings.simplefilter(\"ignore\")\n",
    "\n",
    "import jieba\n",
    "import jieba.analyse\n",
    "import pandas as pd\n",
    "\n",
    "# 设置关键词数量\n",
    "topK = 10  # 您可以更改此值来指定提取的关键词数量\n",
    "\n",
    "# 使用 pandas 读取 CSV 文件\n",
    "file_name = 'IMDB Dataset.csv'\n",
    "data = pd.read_csv(file_name)\n",
    "\n",
    "# 如果 CSV 文件有表头，则不需要下面这行代码；如果没有表头，请取消注释并使用。\n",
    "# data.columns = ['label', 'review']\n",
    "\n",
    "# 创建一个空列表来存储所有的关键词结果\n",
    "all_tags = []\n",
    "\n",
    "# 遍历每一行的数据，对 review 列的内容进行分词和关键词提取\n",
    "for index, row in data.iterrows():\n",
    "    content = row['review']\n",
    "    tags = jieba.analyse.extract_tags(content, topK=topK)\n",
    "    all_tags.append(tags)\n",
    "\n",
    "# 将关键词列表添加到原始 DataFrame 中\n",
    "data['tags'] = all_tags\n",
    "\n",
    "# 输出带有关键词的新 DataFrame 的前几行\n",
    "print(data.head())\n",
    "\n",
    "# 如果想要将结果保存为新的 CSV 文件\n",
    "output_file_name = 'IMDB Dataset_with_tags.csv'\n",
    "data.to_csv(output_file_name, index=False, encoding='utf-8-sig')"
   ]
  }
 ],
 "metadata": {
  "kernelspec": {
   "display_name": "Python 3 (ipykernel)",
   "language": "python",
   "name": "python3"
  },
  "language_info": {
   "codemirror_mode": {
    "name": "ipython",
    "version": 3
   },
   "file_extension": ".py",
   "mimetype": "text/x-python",
   "name": "python",
   "nbconvert_exporter": "python",
   "pygments_lexer": "ipython3",
   "version": "3.12.3"
  }
 },
 "nbformat": 4,
 "nbformat_minor": 5
}
