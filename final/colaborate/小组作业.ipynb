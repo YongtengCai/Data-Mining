{
 "cells": [
  {
   "cell_type": "markdown",
   "metadata": {
    "_cell_guid": "b1076dfc-b9ad-4769-8c92-a6c4dae69d19",
    "_uuid": "8f2839f25d086af736a60e9eeb907d3b93b6e0e5",
    "jp-MarkdownHeadingCollapsed": true
   },
   "source": [
    "# 利用标注好的新浪微博数据 (weibo_senti_6k.csv，字段描述见表1)，开展情感分析\n",
    "# 1. 数据集介绍\n",
    "数据字段及具体含义如下：\n",
    "- label 1 代表积极情感，0 代表消极情感\n",
    "- review 微博内容"
   ]
  },
  {
   "cell_type": "markdown",
   "metadata": {},
   "source": [
    "# 2. 实验准备"
   ]
  },
  {
   "cell_type": "code",
   "execution_count": null,
   "metadata": {},
   "outputs": [],
   "source": [
    "import matplotlib.pyplot as plt \n",
    "import pandas as pd \n",
    "import numpy as np\n",
    "import warnings\n",
    "warnings.simplefilter(\"ignore\")"
   ]
  },
  {
   "cell_type": "markdown",
   "metadata": {},
   "source": [
    "## 3.1. 载入预处理后的数据"
   ]
  },
  {
   "cell_type": "code",
   "execution_count": null,
   "metadata": {
    "_kg_hide-input": true,
    "_uuid": "c76367960e92c4819776cd646556fe14213ca27f"
   },
   "outputs": [
    {
     "name": "stdout",
     "output_type": "stream",
     "text": [
      "# of reviews:  50000\n",
      "           review   tags\n",
      "sentiment               \n",
      "negative    25000  25000\n",
      "positive    25000  25000\n",
      "                                              review  sentiment  \\\n",
      "0  One of the other reviewers has mentioned that ...          1   \n",
      "1  A wonderful little production. <br /><br />The...          1   \n",
      "2  I thought this was a wonderful way to spend ti...          1   \n",
      "3  Basically there's a family where a little boy ...          0   \n",
      "4  Petter Mattei's \"Love in the Time of Money\" is...          1   \n",
      "\n",
      "                                                tags  \n",
      "0  ['br', 'Oz', 'me', 'violence', 'll', 'was', 's...  \n",
      "1  ['br', 'well', 'little', 'production', 'very',...  \n",
      "2  ['was', 'br', 'but', 'thought', 'comedy', 'Whi...  \n",
      "3  ['br', 'Jake', 'his', 'movie', 'drama', 'there...  \n",
      "4  ['br', 'Mattei', 'these', 'Mr', 'people', 'dif...  \n"
     ]
    }
   ],
   "source": [
    "reviews = pd.read_csv(\"E:\\本科\\数据挖掘与商务分析\\hw/final\\IMDB Dataset_with_tags.csv\")\n",
    "print (\"# of reviews: \", reviews.shape[0])\n",
    "reviews_label_count = reviews.groupby(\"sentiment\").count()\n",
    "print(reviews_label_count)\n",
    "reviews.head()\n",
    "reviews['sentiment'] = reviews['sentiment'].replace({'positive': 1, 'negative': 0})\n",
    "print(reviews.head())"
   ]
  },
  {
   "cell_type": "markdown",
   "metadata": {},
   "source": [
    "## 3.2. 划分训练集与测试集"
   ]
  },
  {
   "cell_type": "code",
   "execution_count": null,
   "metadata": {},
   "outputs": [
    {
     "name": "stdout",
     "output_type": "stream",
     "text": [
      "40000 10000\n"
     ]
    }
   ],
   "source": [
    "X = []\n",
    "for index, row in reviews.iterrows():\n",
    "    review = row['review']\n",
    "    X.append(review)\n",
    "y = reviews[\"sentiment\"]\n",
    "\n",
    "from sklearn.model_selection import train_test_split\n",
    "# Splitting into train and test sets\n",
    "X_train, X_test, y_train, y_test = train_test_split(X, y, test_size = 0.2, random_state = 618)\n",
    "print(len(X_train), len(X_test))"
   ]
  },
  {
   "cell_type": "markdown",
   "metadata": {
    "_uuid": "d95c7c17009458684d7ead7f1d4004f3e6de9ba9"
   },
   "source": [
    "# 4. 实验设计\n",
    "## 4.1. 评论情感分析 - 向量空间模型\n",
    "### 4.1.1. 词频向量 + 逻辑回归"
   ]
  },
  {
   "cell_type": "code",
   "execution_count": null,
   "metadata": {},
   "outputs": [],
   "source": [
    "from sklearn.metrics import precision_score\n",
    "from sklearn.metrics import recall_score\n",
    "from sklearn.metrics import f1_score\n",
    "from sklearn.metrics import roc_auc_score"
   ]
  },
  {
   "cell_type": "code",
   "execution_count": null,
   "metadata": {},
   "outputs": [
    {
     "name": "stdout",
     "output_type": "stream",
     "text": [
      "(40000, 93007) (10000, 93007)\n"
     ]
    }
   ],
   "source": [
    "from sklearn.feature_extraction.text import CountVectorizer\n",
    "tf_vec = CountVectorizer()\n",
    "X_train_tf = tf_vec.fit_transform(X_train)\n",
    "X_test_tf = tf_vec.transform(X_test)\n",
    "print(X_train_tf.shape, X_test_tf.shape)"
   ]
  },
  {
   "cell_type": "code",
   "execution_count": null,
   "metadata": {},
   "outputs": [
    {
     "name": "stdout",
     "output_type": "stream",
     "text": [
      "Precision: 0.887 Recall: 0.896\n",
      "F1 score: 0.892\n",
      "AUC score: 0.951\n"
     ]
    }
   ],
   "source": [
    "from sklearn.linear_model import LogisticRegression\n",
    "# Fitting a logistic regression model with default parameters\n",
    "logreg = LogisticRegression()\n",
    "logreg.fit(X_train_tf, y_train)\n",
    "# Prediction & Evaluation\n",
    "y_hat_test = logreg.predict(X_test_tf)\n",
    "print(\"Precision: {:.3f}\".format(precision_score(y_test, y_hat_test)), \"Recall: {:.3f}\".format(recall_score(y_test, y_hat_test)))\n",
    "print(\"F1 score: {:.3f}\".format(f1_score(y_test, y_hat_test)))\n",
    "y_hat_test = logreg.predict_proba(X_test_tf)\n",
    "print(\"AUC score: {:.3f}\".format(roc_auc_score(y_test, y_hat_test[:,1])))"
   ]
  },
  {
   "cell_type": "markdown",
   "metadata": {},
   "source": [
    "### 4.1.2. TF-IDF向量 + 逻辑回归"
   ]
  },
  {
   "cell_type": "code",
   "execution_count": null,
   "metadata": {
    "_uuid": "56cb0dec7471191e8dfabda27da49cfa59c85ae3"
   },
   "outputs": [
    {
     "name": "stdout",
     "output_type": "stream",
     "text": [
      "(40000, 93007) (10000, 93007)\n"
     ]
    }
   ],
   "source": [
    "from sklearn.feature_extraction.text import TfidfVectorizer\n",
    "tfidf_vec = TfidfVectorizer()\n",
    "X_train_tfidf = tfidf_vec.fit_transform(X_train)\n",
    "X_test_tfidf = tfidf_vec.transform(X_test)\n",
    "print(X_train_tfidf.shape, X_test_tfidf.shape)"
   ]
  },
  {
   "cell_type": "code",
   "execution_count": null,
   "metadata": {},
   "outputs": [
    {
     "name": "stdout",
     "output_type": "stream",
     "text": [
      "Precision: 0.886 Recall: 0.908\n",
      "F1 score: 0.897\n",
      "AUC score: 0.959\n"
     ]
    }
   ],
   "source": [
    "# Fitting a logistic regression model with default parameters\n",
    "logreg = LogisticRegression()\n",
    "logreg.fit(X_train_tfidf, y_train)\n",
    "# Prediction & Evaluation\n",
    "y_hat_test = logreg.predict(X_test_tfidf)\n",
    "print(\"Precision: {:.3f}\".format(precision_score(y_test, y_hat_test)), \"Recall: {:.3f}\".format(recall_score(y_test, y_hat_test)))\n",
    "print(\"F1 score: {:.3f}\".format(f1_score(y_test, y_hat_test)))\n",
    "y_hat_test = logreg.predict_proba(X_test_tfidf)\n",
    "print(\"AUC score: {:.3f}\".format(roc_auc_score(y_test, y_hat_test[:,1])))"
   ]
  },
  {
   "cell_type": "markdown",
   "metadata": {},
   "source": [
    "### 4.1.3. 使用 TextBlob 自带的 sentiment 函数"
   ]
  },
  {
   "cell_type": "code",
   "execution_count": null,
   "metadata": {},
   "outputs": [
    {
     "name": "stdout",
     "output_type": "stream",
     "text": [
      "Precision: 0.625\n",
      "Recall: 0.945\n",
      "F1 score: 0.752\n",
      "AUC score: 0.833\n"
     ]
    }
   ],
   "source": [
    "import pandas as pd\n",
    "from sklearn.model_selection import train_test_split\n",
    "from sklearn.metrics import precision_score, recall_score, f1_score, roc_auc_score\n",
    "\n",
    "# 1. 加载数据\n",
    "df = pd.read_csv('IMDB_Dataset_with_TextBlob_sentiment.csv')\n",
    "\n",
    "# 2. 创建标签映射，确保 'sentiment' 的真实标签格式一致\n",
    "label_mapping = {'positive': 1, 'negative': 0}\n",
    "df['sentiment_mapped'] = df['sentiment'].replace(label_mapping)\n",
    "\n",
    "# 3. 按 4:1 划分训练集和测试集（80% 训练集，20% 测试集）\n",
    "_, X_test, y_train, y_test = train_test_split(\n",
    "    df.index,  # 使用索引进行划分，因为我们只关心标签和情感分数\n",
    "    df['sentiment_mapped'],  # 使用转换后的情感标签作为目标变量\n",
    "    test_size=0.2,  # 20% 测试集，80% 训练集\n",
    "    random_state=618  # 设置随机种子，确保每次划分相同\n",
    ")\n",
    "\n",
    "# 获取与测试集对应的TextBlob预测的情感分数\n",
    "y_score_test = df.loc[X_test, 'textblob_sentiment_score']\n",
    "\n",
    "# 根据情感分数生成二值预测结果，这里假设情感分数 > 0 表示正向评价\n",
    "threshold = 0  # 设定阈值以区分正负评价\n",
    "y_pred_test = (y_score_test > threshold).astype(int)\n",
    "\n",
    "# 5. 评估：Precision, Recall, F1, AUC\n",
    "precision = precision_score(y_test, y_pred_test)\n",
    "recall = recall_score(y_test, y_pred_test)\n",
    "f1 = f1_score(y_test, y_pred_test)\n",
    "auc = roc_auc_score(y_test, y_score_test)  # 使用情感分数计算AUC\n",
    "\n",
    "# 输出评估结果\n",
    "print(f\"Precision: {precision:.3f}\")\n",
    "print(f\"Recall: {recall:.3f}\")\n",
    "print(f\"F1 score: {f1:.3f}\")\n",
    "print(f\"AUC score: {auc:.3f}\")"
   ]
  },
  {
   "cell_type": "code",
   "execution_count": null,
   "metadata": {},
   "outputs": [],
   "source": []
  }
 ],
 "metadata": {
  "kernelspec": {
   "display_name": "Python 3 (ipykernel)",
   "language": "python",
   "name": "python3"
  },
  "language_info": {
   "codemirror_mode": {
    "name": "ipython",
    "version": 3
   },
   "file_extension": ".py",
   "mimetype": "text/x-python",
   "name": "python",
   "nbconvert_exporter": "python",
   "pygments_lexer": "ipython3",
   "version": "3.12.3"
  }
 },
 "nbformat": 4,
 "nbformat_minor": 4
}
